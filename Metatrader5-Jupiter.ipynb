{
 "cells": [
  {
   "cell_type": "code",
   "execution_count": null,
   "id": "0b9e29df",
   "metadata": {
    "tags": []
   },
   "outputs": [],
   "source": [
    "pip install fxcmpy==1.2.9"
   ]
  },
  {
   "cell_type": "code",
   "execution_count": null,
   "id": "5f955db6-77ec-4c94-9eca-11dc47e22482",
   "metadata": {},
   "outputs": [],
   "source": [
    "pip install python-socketio==4.4"
   ]
  },
  {
   "cell_type": "code",
   "execution_count": null,
   "id": "bc74e899-be21-43d5-ae00-0c718b77d9e1",
   "metadata": {},
   "outputs": [],
   "source": [
    "pip install python-engineio==3.9"
   ]
  },
  {
   "cell_type": "code",
   "execution_count": null,
   "id": "b3fccb65-2a2b-4de8-8b74-a8cf8765f33f",
   "metadata": {},
   "outputs": [],
   "source": [
    "pip install websocket-client==1.1.0"
   ]
  },
  {
   "cell_type": "code",
   "execution_count": 1,
   "id": "a8663876-f504-4750-8694-6b3bc2e08b47",
   "metadata": {
    "tags": []
   },
   "outputs": [],
   "source": [
    "import fxcmpy\n",
    "import socketio\n",
    "import datetime as dt\n",
    "import math"
   ]
  },
  {
   "cell_type": "code",
   "execution_count": 2,
   "id": "6882feb4-229a-4525-a8d1-b808118f4600",
   "metadata": {
    "tags": []
   },
   "outputs": [],
   "source": [
    "TOKEN = '4ffd2f8fb79858912386a852640c9ba7ce68cbdd'"
   ]
  },
  {
   "cell_type": "code",
   "execution_count": 3,
   "id": "24b982c6-0e57-4e6f-8940-1d1743cf4125",
   "metadata": {
    "tags": []
   },
   "outputs": [],
   "source": [
    "con = fxcmpy.fxcmpy(access_token=TOKEN, log_level='error', log_file=None)"
   ]
  },
  {
   "cell_type": "code",
   "execution_count": null,
   "id": "34a74688-8648-4a64-ad00-00466248b384",
   "metadata": {
    "tags": []
   },
   "outputs": [],
   "source": [
    "#configuration\n",
    "globalSpreadBuy = 3\n",
    "globalSpreadSell = 14\n",
    "globalStop = 2\n",
    "\n",
    "#global data\n",
    "globalPositionOpen = 0\n",
    "globalPositionTrailing = 0\n",
    "globalPositionStop = 0\n",
    "globalPositionType = \"\"\n",
    "globalGross = 0\n",
    "globalPrice = 0\n",
    "globalMaxGross = 0"
   ]
  },
  {
   "cell_type": "code",
   "execution_count": null,
   "id": "7eb2653a-c3be-4802-b51c-eba39246d218",
   "metadata": {},
   "outputs": [],
   "source": [
    "def priceConvert(price):\n",
    "    price = format(price, '.5f')\n",
    "    if len(str(price)) < 6 :\n",
    "        price =  int(str(price) + \"0\")\n",
    "        \n",
    "    return int(str(str(price).replace(\".\", \"\"))[:6])"
   ]
  },
  {
   "cell_type": "code",
   "execution_count": null,
   "id": "171450e3-9d7c-4929-ac39-39deb5d1da0a",
   "metadata": {},
   "outputs": [],
   "source": [
    "def priceConvertDot(price):\n",
    "    return str(price)[:1] + \".\" + str(price)[1:]"
   ]
  },
  {
   "cell_type": "code",
   "execution_count": null,
   "id": "009de927-737d-4dff-a340-3daa960793c3",
   "metadata": {
    "tags": []
   },
   "outputs": [],
   "source": [
    "def on_tick(data, df):\n",
    "    #print(\"price changed\")\n",
    "    #print(\"Ask: {}\".format(data['Rates'][0]))\n",
    "    activePosition = getActivePosition(data['Rates'][0])\n",
    "    print(activePosition)\n",
    "    #if activePosition != null\n",
    "     #   print(activePosition)"
   ]
  },
  {
   "cell_type": "code",
   "execution_count": null,
   "id": "cbd818f8-44a0-4a0b-a401-39fba66a2af0",
   "metadata": {
    "tags": []
   },
   "outputs": [],
   "source": [
    "def getDifference(openPrice, actualPrice, isBuy):\n",
    "    difference = 0\n",
    "    openPrice = int(str(str(openPrice).replace(\".\", \"\"))[:6])\n",
    "    actualPrice = int(str(str(actualPrice).replace(\".\", \"\"))[:6])\n",
    "    \n",
    "    if len(str(actualPrice)) < 6 :\n",
    "        actualPrice =  int(str(actualPrice) + \"0\")\n",
    "    elif len(str(openPrice)) < 6 :\n",
    "        openPrice =  int(str(openPrice) + \"0\")    \n",
    "    \n",
    "    if isBuy: \n",
    "        difference = actualPrice - openPrice\n",
    "    else:\n",
    "        difference = openPrice - actualPrice\n",
    "    \n",
    "    return difference"
   ]
  },
  {
   "cell_type": "code",
   "execution_count": null,
   "id": "8c262801-c390-4d26-8ae4-9b5051d14c1c",
   "metadata": {
    "tags": []
   },
   "outputs": [],
   "source": [
    "def closeAllPositions():\n",
    "    con.close_all()\n",
    "    global globalMaxGross\n",
    "    global globalSpreadBuy\n",
    "    global globalSpreadSell\n",
    "    global globalPositionType\n",
    "    global globalGross\n",
    "    global globalPrice\n",
    "    global globalPositionOpen\n",
    "    global globalPositionStop\n",
    "    global globalPositionTrailing\n",
    "    globalMaxGross = 0\n",
    "    globalPositionType = \"\"\n",
    "    globalGross = 0\n",
    "    globalPrice = 0\n",
    "    globalPositionOpen = 0\n",
    "    globalPositionStop = 0\n",
    "    globalPositionTrailing = 0"
   ]
  },
  {
   "cell_type": "code",
   "execution_count": null,
   "id": "e4f0cfcf-b184-4d7a-8845-d831518d3ff6",
   "metadata": {},
   "outputs": [],
   "source": [
    "def getActivePosition(price):\n",
    "    global globalMaxGross\n",
    "    global globalSpreadBuy\n",
    "    global globalSpreadSell\n",
    "    global globalPositionType\n",
    "    global globalGross\n",
    "    global globalPrice\n",
    "    global globalPositionOpen\n",
    "    global globalPositionStop\n",
    "    global globalPositionTrailing\n",
    "    \n",
    "    globalPrice =  priceConvert(price)\n",
    "    \n",
    "    trades = con.get_open_trade_ids()\n",
    "    \n",
    "    if not trades:\n",
    "        return \"Price % s\" % (priceConvertDot(globalPrice))\n",
    "    else:    \n",
    "        pos = con.get_open_position(trades[0])  \n",
    "        globalGross = pos.get_grossPL()\n",
    "        globalPositionOpen = priceConvert(pos.get_open())        \n",
    "                \n",
    "        #difference = getDifference(pos.get_open(), price, pos.get_isBuy())    \n",
    "        \n",
    "        if pos.get_isBuy():\n",
    "            globalPositionType = \"Buy\"\n",
    "            globalPositionTrailing = globalPositionOpen + globalSpreadBuy\n",
    "            \n",
    "            if globalPrice > globalPositionTrailing:\n",
    "                globalPositionTrailing = globalPrice\n",
    "                if (globalPositionTrailing - globalStop) > globalPositionStop:\n",
    "                    globalPositionStop = globalPositionTrailing - globalStop\n",
    "            \n",
    "            if globalPositionStop > 0:\n",
    "                if globalPrice < globalPositionStop:\n",
    "                    print(\"Closed at: \" + str(globalGross))\n",
    "                    closeAllPositions()\n",
    "        else:\n",
    "            globalPositionType = \"Sell\"\n",
    "            globalPositionTrailing = globalPositionOpen - globalSpreadSell\n",
    "            \n",
    "            if globalPrice < globalPositionTrailing:\n",
    "                globalPositionTrailing = globalPrice\n",
    "                \n",
    "                if (globalPositionTrailing + globalStop) < globalPositionStop or globalPositionStop == 0: \n",
    "                    globalPositionStop = globalPositionTrailing + globalStop\n",
    "        \n",
    "            if globalPositionStop > 0:\n",
    "                if globalPrice > globalPositionStop:\n",
    "                    print(\"Closed at: \" + str(globalGross))\n",
    "                    closeAllPositions()\n",
    "                \n",
    "        return \"% s | Gross % s | Stop % s | Trailing % s | Actual % s | Open % s\" % ( globalPositionType, globalGross, priceConvertDot(globalPositionStop), priceConvertDot(globalPositionTrailing), priceConvertDot(globalPrice), priceConvertDot(globalPositionOpen))"
   ]
  },
  {
   "cell_type": "code",
   "execution_count": null,
   "id": "6e09deee-e8d2-41fd-b4e4-c6f1bf8bd471",
   "metadata": {
    "tags": []
   },
   "outputs": [],
   "source": [
    "con.subscribe_market_data('EUR/USD',(on_tick,))"
   ]
  },
  {
   "cell_type": "code",
   "execution_count": null,
   "id": "f8eac571-d65c-4c27-a18c-3ad3570ff41a",
   "metadata": {
    "tags": []
   },
   "outputs": [],
   "source": [
    "con.unsubscribe_market_data('EUR/USD')"
   ]
  },
  {
   "cell_type": "code",
   "execution_count": null,
   "id": "70eb2281-1500-43a4-b96d-e23a280e8e3c",
   "metadata": {},
   "outputs": [],
   "source": [
    "con.get_accounts().T"
   ]
  },
  {
   "cell_type": "code",
   "execution_count": null,
   "id": "7c967785-b21e-4d0a-a315-87fd59245a0c",
   "metadata": {},
   "outputs": [],
   "source": [
    "con.get_last_price('EUR/USD')"
   ]
  },
  {
   "cell_type": "code",
   "execution_count": null,
   "id": "ebba2c9f-3b86-49cd-a563-7a43ee16a8a0",
   "metadata": {},
   "outputs": [],
   "source": [
    "sel = ['tradeId', 'amountK', 'currency', 'grossPL', 'isBuy']"
   ]
  },
  {
   "cell_type": "code",
   "execution_count": null,
   "id": "aea3566f-4a75-4900-89c6-86c762c7bfc7",
   "metadata": {
    "tags": []
   },
   "outputs": [],
   "source": [
    "con.get_open_positions()[sel]"
   ]
  },
  {
   "cell_type": "code",
   "execution_count": null,
   "id": "b43e6008-e591-4edf-be37-34325301d4e2",
   "metadata": {
    "tags": []
   },
   "outputs": [],
   "source": [
    "con.get_open_positions_summary().T"
   ]
  },
  {
   "cell_type": "code",
   "execution_count": null,
   "id": "d15eb643-6014-4ba5-968a-768243d21b77",
   "metadata": {},
   "outputs": [],
   "source": [
    "con.get_closed_positions_summary().T"
   ]
  },
  {
   "cell_type": "code",
   "execution_count": null,
   "id": "5d3e46d8-242b-425a-b13b-a1003cfa02c0",
   "metadata": {},
   "outputs": [],
   "source": [
    "order = con.create_market_buy_order('EUR/USD',10)"
   ]
  },
  {
   "cell_type": "code",
   "execution_count": null,
   "id": "feebf715-15f2-467e-b664-a0bf891a98fe",
   "metadata": {
    "tags": []
   },
   "outputs": [],
   "source": [
    "order = con.create_market_sell_order('EUR/USD',10)"
   ]
  },
  {
   "cell_type": "code",
   "execution_count": null,
   "id": "af0851d0-c620-4e43-8e27-35f2d027cf51",
   "metadata": {},
   "outputs": [],
   "source": [
    "opciones = ['grossPL']"
   ]
  },
  {
   "cell_type": "code",
   "execution_count": null,
   "id": "e910c523-92ee-46e3-812d-ace92dfcd44e",
   "metadata": {
    "tags": []
   },
   "outputs": [],
   "source": [
    "pos = con.get_open_position(140265045)"
   ]
  },
  {
   "cell_type": "code",
   "execution_count": null,
   "id": "1ef19096-5ca6-4d37-81d4-b8ea7ee8ef7d",
   "metadata": {
    "tags": []
   },
   "outputs": [],
   "source": [
    "#print(pos.get_grossPL())\n",
    "print(pos)"
   ]
  },
  {
   "cell_type": "code",
   "execution_count": null,
   "id": "ea64c8a7-b110-48d1-ac0e-7c47bb77806b",
   "metadata": {},
   "outputs": [],
   "source": [
    "pos.close()"
   ]
  },
  {
   "cell_type": "code",
   "execution_count": null,
   "id": "270435d3-68cb-4563-8200-49d833183c1f",
   "metadata": {
    "tags": []
   },
   "outputs": [],
   "source": [
    "con.close_all()\n",
    "globalMaxGross = 0\n",
    "globalPositionType = \"\"\n",
    "globalGross = 0\n",
    "globalPrice = 0\n",
    "globalPositionOpen = 0\n",
    "globalPositionStop = 0\n",
    "globalPositionTrailing = 0"
   ]
  },
  {
   "cell_type": "code",
   "execution_count": null,
   "id": "5286bdc2-e40b-4f4e-9a48-3b6cec9d417b",
   "metadata": {},
   "outputs": [],
   "source": [
    "con.get_closed_positions().T"
   ]
  },
  {
   "cell_type": "code",
   "execution_count": null,
   "id": "fe8dfb5e-a977-467f-823a-c8b7457d40a3",
   "metadata": {},
   "outputs": [],
   "source": [
    "class ActivePosition:\n",
    "  def __init__(self, typePosition, gross, openPrice, actualPrice, maxGross, difference):\n",
    "    self.typePosition = typePosition\n",
    "    self.gross = gross\n",
    "    self.openPrice = openPrice\n",
    "    self.actualPrice = actualPrice\n",
    "    self.maxGross = maxGross\n",
    "    self.difference = difference\n",
    "  def __str__(self):\n",
    "    return \"% s | Gross % s | Open % s | Actual % s | accumulated % s | difference % s\" % (self.typePosition, self.gross, self.openPrice, format(self.actualPrice, '.5f'), self.maxGross, self.difference)    "
   ]
  },
  {
   "cell_type": "code",
   "execution_count": null,
   "id": "d97cfd03-2ca1-4198-add8-66ffc447f3d0",
   "metadata": {},
   "outputs": [],
   "source": [
    "globalMaxGross = 0\n",
    "globalPositionType = \"\"\n",
    "globalGross = 0\n",
    "globalPrice = 0\n",
    "globalPositionOpen = 0\n",
    "globalPositionStop = 0\n",
    "globalPositionTrailing = 0"
   ]
  },
  {
   "cell_type": "code",
   "execution_count": null,
   "id": "d4bdb69b-605a-4b6d-b65e-6ec3bd850381",
   "metadata": {},
   "outputs": [],
   "source": []
  }
 ],
 "metadata": {
  "kernelspec": {
   "display_name": "Python 3 (ipykernel)",
   "language": "python",
   "name": "python3"
  },
  "language_info": {
   "codemirror_mode": {
    "name": "ipython",
    "version": 3
   },
   "file_extension": ".py",
   "mimetype": "text/x-python",
   "name": "python",
   "nbconvert_exporter": "python",
   "pygments_lexer": "ipython3",
   "version": "3.9.13"
  }
 },
 "nbformat": 4,
 "nbformat_minor": 5
}
