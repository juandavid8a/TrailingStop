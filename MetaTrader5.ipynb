{
 "cells": [
  {
   "cell_type": "code",
   "execution_count": 49,
   "id": "12fb7e18-60f2-4759-98dd-bd5696412cd3",
   "metadata": {},
   "outputs": [],
   "source": [
    "# Desconexión de la plataforma MetaTrader 5\n",
    "mt5.shutdown()\n",
    "globalMaxGross = 0\n",
    "globalPositionType = \"\"\n",
    "globalGross = 0\n",
    "globalPrice = 0\n",
    "globalPositionOpen = 0\n",
    "globalPositionStop = 0\n",
    "globalPositionTrailingN = 0\n",
    "globalPositionTrailingV = 0"
   ]
  },
  {
   "cell_type": "code",
   "execution_count": 50,
   "id": "2c2426f0-e939-4911-b31a-d7eb4c4cffc0",
   "metadata": {},
   "outputs": [],
   "source": [
    "import MetaTrader5 as mt5\n",
    "import time"
   ]
  },
  {
   "cell_type": "code",
   "execution_count": 51,
   "id": "bd673868-1aa7-422a-9b1a-8a95959a67dd",
   "metadata": {},
   "outputs": [],
   "source": [
    "# Conexión con la plataforma MetaTrader 5\n",
    "if not mt5.initialize():\n",
    "    print(\"Error al inicializar MetaTrader 5.\")\n",
    "    quit()"
   ]
  },
  {
   "cell_type": "code",
   "execution_count": 52,
   "id": "3878fcaf-c7cb-451f-9209-ce203f8c63d8",
   "metadata": {},
   "outputs": [],
   "source": [
    "#configuration\n",
    "globalSpreadBuy = 2\n",
    "globalSpreadSell = 2\n",
    "globalTrailing = 2\n",
    "globalTrailingStop = 1\n",
    "globalSymbol = \"EURUSD\"\n",
    "globalVolume = 0.60\n",
    "\n",
    "globalLastPrice = 0\n",
    "globalPositionOpen = 0\n",
    "globalPositionStop = 0\n",
    "globalPositionType = \"\"\n",
    "globalGross = 0\n",
    "globalPrice = 0\n",
    "globalMaxGross = 0\n",
    "globalPositionTrailingN = 0\n",
    "globalPositionTrailingV = 0"
   ]
  },
  {
   "cell_type": "code",
   "execution_count": 53,
   "id": "146dabd0-30fc-44c9-94a2-655d3050e5c5",
   "metadata": {},
   "outputs": [
    {
     "name": "stdout",
     "output_type": "stream",
     "text": [
      "No positions found\n"
     ]
    }
   ],
   "source": [
    "positions = mt5.positions_get()\n",
    "if positions:\n",
    "    position = mt5.positions_get()[0]\n",
    "    print(position.ticket)\n",
    "else:\n",
    "    print(\"No positions found\")"
   ]
  },
  {
   "cell_type": "code",
   "execution_count": 54,
   "id": "f762333c-2060-421e-bb62-a01fb4155dfd",
   "metadata": {},
   "outputs": [],
   "source": [
    "def priceConvert(price):\n",
    "    price = format(price, '.5f')\n",
    "    if len(price) == 5:\n",
    "        price += '0'\n",
    "    return int(str(str(price).replace(\".\", \"\"))[:6])"
   ]
  },
  {
   "cell_type": "code",
   "execution_count": 55,
   "id": "17c125a3-48a4-4a8e-9ddd-2fa3b1f01dc8",
   "metadata": {},
   "outputs": [],
   "source": [
    "def priceConvertDot(price):\n",
    "    return str(price)[:1] + \".\" + str(price)[1:]"
   ]
  },
  {
   "cell_type": "code",
   "execution_count": 56,
   "id": "e1349e74-3f38-4b94-b261-c26fc3678fb7",
   "metadata": {},
   "outputs": [],
   "source": [
    "def closePosition(pos):\n",
    "    close_request = {\n",
    "        \"action\": mt5.TRADE_ACTION_DEAL,\n",
    "        \"symbol\": pos.symbol,\n",
    "        \"volume\": globalVolume,\n",
    "        \"type\": mt5.ORDER_TYPE_BUY if pos.type == 1 else mt5.ORDER_TYPE_SELL,\n",
    "        \"position\": pos.ticket,\n",
    "        \"price\": mt5.symbol_info_tick(pos.symbol).bid,\n",
    "        \"deviation\": 20,\n",
    "        \"magic\": 234000,\n",
    "        \"comment\": 'Close trade',\n",
    "        \"type_time\": mt5.ORDER_TIME_GTC,\n",
    "        \"type_filling\": mt5.ORDER_FILLING_IOC,\n",
    "    }\n",
    "\n",
    "    # Envío de la orden de cierre al servidor de MetaTrader 5\n",
    "    result = mt5.order_send(close_request)\n",
    "\n",
    "    if result.retcode != mt5.TRADE_RETCODE_DONE:\n",
    "        print(\"Error al cerrar la posición: \", result.comment)\n",
    "    else:\n",
    "        print(\"Posición cerrada con éxito. Resultado: \", result)\n",
    "        global globalMaxGross\n",
    "        global globalSpreadBuy\n",
    "        global globalSpreadSell\n",
    "        global globalPositionType\n",
    "        global globalGross\n",
    "        global globalPrice\n",
    "        global globalPositionOpen\n",
    "        global globalPositionStop\n",
    "        global globalPositionTrailingN\n",
    "        global globalPositionTrailingV\n",
    "        globalMaxGross = 0\n",
    "        globalPositionType = \"\"\n",
    "        globalGross = 0\n",
    "        globalPrice = 0\n",
    "        globalPositionOpen = 0\n",
    "        globalPositionStop = 0\n",
    "        globalPositionTrailingN = 0\n",
    "        globalPositionTrailingV = 0"
   ]
  },
  {
   "cell_type": "code",
   "execution_count": 57,
   "id": "a85e518e-f4b8-494a-8e2a-548b3da5bc39",
   "metadata": {},
   "outputs": [],
   "source": [
    "def printInfo(type):\n",
    "    if type == 1:\n",
    "        print(\"-------------------\")\n",
    "        print(\"Tipo: \"+str(globalPositionType))               \n",
    "        print(\"Ganacia: \"+str(globalGross))\n",
    "        print(\"Open: \"+str(globalPositionOpen))\n",
    "        print(\"Precio: \"+str(globalPrice))\n",
    "        print(\"TrailingN: \"+str(globalPositionTrailingN))\n",
    "        print(\"TrailingV: \"+str(globalPositionTrailingV))\n",
    "        print(\"Stop: \"+str(globalPositionStop))\n",
    "        print(\"Diff: \"+str(globalPositionTrailingV - globalPositionTrailingN))\n",
    "        print(\"-------------------\")"
   ]
  },
  {
   "cell_type": "code",
   "execution_count": 58,
   "id": "545dfee9-3220-4a3a-a593-2f8f047a7394",
   "metadata": {},
   "outputs": [],
   "source": [
    "def getActivePosition(price):\n",
    "    global globalMaxGross\n",
    "    global globalSpreadBuy\n",
    "    global globalSpreadSell\n",
    "    global globalPositionType\n",
    "    global globalGross\n",
    "    global globalPrice\n",
    "    global globalPositionOpen\n",
    "    global globalPositionStop\n",
    "    global globalPositionTrailingN\n",
    "    global globalPositionTrailingV\n",
    "    global globalTrailingStop\n",
    "        \n",
    "    globalPrice = priceConvert(price)\n",
    "    \n",
    "    trades = mt5.positions_get() \n",
    "    if trades:   \n",
    "        pos = mt5.positions_get()[0] \n",
    "        globalGross = pos.profit\n",
    "        globalPositionOpen = priceConvert(pos.price_open)           \n",
    "        \n",
    "        if pos.type == 1:\n",
    "            globalPositionType = \"Sell\"\n",
    "            globalPositionTrailingN = globalPositionTrailingN if globalPositionTrailingN > 0 else globalPositionOpen - globalSpreadSell\n",
    "            globalPositionTrailingV = globalPositionTrailingV if globalPositionTrailingV > 0 else globalPositionTrailingN\n",
    "                   \n",
    "            if globalPrice < globalPositionTrailingN:\n",
    "                globalPositionTrailingN = globalPrice\n",
    "                \n",
    "                if (globalPositionTrailingV - globalPositionTrailingN) >= globalTrailing: \n",
    "                    globalPositionStop = globalPositionTrailingN + globalTrailingStop\n",
    "                    globalPositionTrailingV = globalPositionTrailingN\n",
    "        \n",
    "            if globalPositionStop > 0:\n",
    "                if globalPrice >= globalPositionStop and globalGross > 0:\n",
    "                    print(\"Closed at: \" + str(globalGross))\n",
    "                    closePosition(pos)\n",
    "        else:\n",
    "            globalPositionType = \"Buy\"\n",
    "            globalPositionTrailingN = globalPositionTrailingN if globalPositionTrailingN > 0 else globalPositionOpen + globalSpreadSell\n",
    "            globalPositionTrailingV = globalPositionTrailingV if globalPositionTrailingV > 0 else globalPositionTrailingN\n",
    "            \n",
    "            if globalPrice > globalPositionTrailingN:\n",
    "                globalPositionTrailingN = globalPrice\n",
    "                if (globalPositionTrailingN - globalPositionTrailingV) >= globalTrailing: \n",
    "                    globalPositionStop = globalPositionTrailingN - globalTrailingStop\n",
    "                    globalPositionTrailingV = globalPositionTrailingN\n",
    "                    print(\"New TrailingStop: \"+ str(globalPositionStop))\n",
    "                    \n",
    "            if globalPositionStop > 0:\n",
    "                if globalPrice <= globalPositionStop and globalGross > 0:\n",
    "                    print(\"Closed at: \" + str(globalGross))\n",
    "                    closePosition(pos)  \n",
    "        \n",
    "        #printInfo(1)\n",
    "        \n",
    "    else:     \n",
    "        globalMaxGross = 0\n",
    "        globalGross = 0\n",
    "        globalPositionOpen = 0\n",
    "        globalPositionStop = 0\n",
    "        globalPositionTrailingN = 0\n",
    "        globalPositionTrailingV = 0"
   ]
  },
  {
   "cell_type": "code",
   "execution_count": null,
   "id": "910914be-b5e5-433b-9831-3ca1f2c39b78",
   "metadata": {
    "tags": []
   },
   "outputs": [
    {
     "name": "stdout",
     "output_type": "stream",
     "text": [
      "Closed at: 1.8\n",
      "Posición cerrada con éxito. Resultado:  OrderSendResult(retcode=10009, deal=11820372, order=14333265, volume=0.6, price=1.0765500000000001, bid=0.0, ask=0.0, comment='Request executed', request_id=2442108186, retcode_external=0, request=TradeRequest(action=1, magic=234000, order=0, symbol='EURUSD', volume=0.6, price=1.0765500000000001, stoplimit=0.0, sl=0.0, tp=0.0, deviation=20, type=0, type_filling=1, type_time=0, expiration=0, comment='Close trade', position=14333109, position_by=0))\n"
     ]
    }
   ],
   "source": [
    "while True:\n",
    "    tick = mt5.symbol_info_tick(globalSymbol)\n",
    "    if tick is not None:\n",
    "\n",
    "        if tick.bid != globalLastPrice:\n",
    "            globalLastPrice = tick.bid\n",
    "            #price = tick.bid \n",
    "            getActivePosition(tick.bid)\n",
    "            #print(priceConvert(tick.bid))\n",
    "    #time.sleep(1)"
   ]
  },
  {
   "cell_type": "code",
   "execution_count": null,
   "id": "268e0ae2-21cd-4de3-8a1f-5ce9bccf5e4a",
   "metadata": {},
   "outputs": [],
   "source": [
    "# Creación de una orden de mercado\n",
    "request = {\n",
    "    \"action\": mt5.TRADE_ACTION_DEAL,\n",
    "    \"symbol\": symbol,\n",
    "    \"volume\": volume,\n",
    "    \"type\": mt5.ORDER_TYPE_SELL,\n",
    "    \"price\": mt5.symbol_info_tick(symbol).ask,\n",
    "    \"deviation\": 20,\n",
    "    \"magic\": 234000,\n",
    "    \"comment\": \"Python Script Order\",\n",
    "    \"type_time\": mt5.ORDER_TIME_GTC,\n",
    "    \"type_filling\": mt5.ORDER_FILLING_IOC,\n",
    "}\n",
    "\n",
    "# Envío de la orden al servidor de MetaTrader 5\n",
    "result = mt5.order_send(request)\n",
    "\n",
    "if result.retcode != mt5.TRADE_RETCODE_DONE:\n",
    "    print(\"Error al enviar la orden: \", result.comment)\n",
    "else:\n",
    "    print(\"La orden ha sido enviada con éxito. Resultado: \", result)\n",
    "\n"
   ]
  },
  {
   "cell_type": "code",
   "execution_count": null,
   "id": "0508d0dd-7848-4c77-9d30-ba738819ff64",
   "metadata": {},
   "outputs": [],
   "source": [
    "positions = mt5.positions_get()\n",
    "position_ticket = 0\n",
    "deal = result.deal\n",
    "# imprimir información de las posiciones abiertas\n",
    "if positions:\n",
    "    for position in positions:\n",
    "        position_ticket = position.ticket\n",
    "        print(position.ticket)\n",
    "        print(position.symbol)\n",
    "        print(deal)\n",
    "else:\n",
    "    print(\"No positions found\")\n",
    "\n",
    "print(mt5.TRADE_ACTION_DEAL)\n",
    "print(mt5.ORDER_TYPE_BUY)\n",
    "print(mt5.ORDER_TIME_GTC)\n",
    "print(mt5.ORDER_FILLING_IOC)"
   ]
  },
  {
   "cell_type": "code",
   "execution_count": null,
   "id": "c2d988b2-a63c-4531-b836-5bcfe163d8d3",
   "metadata": {},
   "outputs": [],
   "source": [
    "# Cierre de la posición\n",
    "\n",
    "if position_id:\n",
    "    close_request = {\n",
    "        \"action\": mt5.TRADE_ACTION_DEAL,\n",
    "        \"symbol\": symbol,\n",
    "        \"volume\": volume,\n",
    "        \"type\": mt5.ORDER_TYPE_BUY,\n",
    "        \"position\": position_ticket,\n",
    "        \"price\": mt5.symbol_info_tick(symbol).bid,\n",
    "        \"deviation\": 20,\n",
    "        \"magic\": 234000,\n",
    "        \"comment\": 'Close trade',\n",
    "        \"type_time\": mt5.ORDER_TIME_GTC,\n",
    "        \"type_filling\": mt5.ORDER_FILLING_IOC, # also tried with ORDER_FILLING_RETURN\n",
    "    }\n",
    "\n",
    "    # Envío de la orden de cierre al servidor de MetaTrader 5\n",
    "    result = mt5.order_send(close_request)\n",
    "\n",
    "    if result.retcode != mt5.TRADE_RETCODE_DONE:\n",
    "        print(\"Error al cerrar la posición: \", result.comment)\n",
    "    else:\n",
    "        print(\"Posición cerrada con éxito. Resultado: \", result)\n",
    "\n"
   ]
  },
  {
   "cell_type": "code",
   "execution_count": null,
   "id": "e48e561a-516d-4b08-b754-65d154c2d477",
   "metadata": {},
   "outputs": [],
   "source": []
  }
 ],
 "metadata": {
  "kernelspec": {
   "display_name": "Python 3 (ipykernel)",
   "language": "python",
   "name": "python3"
  },
  "language_info": {
   "codemirror_mode": {
    "name": "ipython",
    "version": 3
   },
   "file_extension": ".py",
   "mimetype": "text/x-python",
   "name": "python",
   "nbconvert_exporter": "python",
   "pygments_lexer": "ipython3",
   "version": "3.9.13"
  }
 },
 "nbformat": 4,
 "nbformat_minor": 5
}
